{
 "cells": [
  {
   "cell_type": "markdown",
   "metadata": {},
   "source": [
    "Converte os arquivos de labels para um unico arquivo contendo o arquivo de imagem e a quantidade de eixos presente na imagem"
   ]
  },
  {
   "cell_type": "code",
   "execution_count": 3,
   "metadata": {},
   "outputs": [
    {
     "name": "stdout",
     "output_type": "stream",
     "text": [
      "['20160927100754-550_color-ROI-1-15_jpg.rf.76fcef950521bf7b664c44e0d21016d5.jpg,2', '20160927100754-550_color-ROI-1-15_jpg.rf.813e99fc223b85bf229fcc44ebe6c207.jpg,2', '20160927100754-550_color-ROI-1-15_jpg.rf.f8fb9599c21ce89be0f4de129872ffaa.jpg,2', '20160927100754-550_color-ROI-1-17_jpg.rf.b7ca10229cdf9dac4cc362976de53c11.jpg,3', '20160927100754-550_color-ROI-1-17_jpg.rf.c52311f2207f3ee23b23f0daf0deb8ae.jpg,3', '20160927100754-550_color-ROI-1-17_jpg.rf.eeeed2e48e1d3e373e410e055c802d6b.jpg,3', '20160927100754-550_color-ROI-1-19_jpg.rf.156f4bf0f2efec4030b6e44eafb596fc.jpg,3', '20160927100754-550_color-ROI-1-19_jpg.rf.23fef6980f3d4baa5b759f6e8f31051a.jpg,3', '20160927100754-550_color-ROI-1-19_jpg.rf.654fc247b99e8772cc8cb2ac4afc7e9d.jpg,3', '20160927100754-550_color-ROI-1-21_jpg.rf.50049fd7471103c861ac199d37ea61d0.jpg,3', '20160927100754-550_color-ROI-1-21_jpg.rf.cc1b0d4c53e3b20d44a748930972eddd.jpg,3', '20160927100754-550_color-ROI-1-21_jpg.rf.f0ac7d981584e3c050a8115e9f154ccd.jpg,3', '20160927100754-550_color-ROI-1-8_jpg.rf.2975b08adf30b62e2cf3b58da81a3b08.jpg,2', '20160927100754-550_color-ROI-1-8_jpg.rf.2efd72ebfbb8821d252bf25ca7053f05.jpg,2', '20160927100754-550_color-ROI-1-8_jpg.rf.5b98e909ecb6a7363ca4c75c800d9dd8.jpg,2']\n",
      "['20160927102749_color-ROI-1-17_jpg.rf.3968a85612a0c3f58b0f9e6662ae32db.jpg,2', '20160927102749_color-ROI-1-3_jpg.rf.06967668c557728ba2551e05d8550090.jpg,6', '20160927102749_color-ROI-1-4_jpg.rf.19de2fe2eac53ba669a2b6012ba9280a.jpg,4', '20160927102749_color-ROI-1-6_jpg.rf.6cc3bb71d37f1f3de15e5605ef23bf74.jpg,2', '20160927103652-550_color-ROI-1-35_jpg.rf.7f71933e92402e2900169b2ba4c743a8.jpg,3', '20160927103652-550_color-ROI-1-55_jpg.rf.62739402d260c1cefb5ba5bc1826b56e.jpg,3', '20160927110318-550_color-ROI-1-27_jpg.rf.5dd0ce648a7e22421edd6834889a0a8c.jpg,2', '20160927110318-550_color-ROI-1-39_jpg.rf.7f5a8e5044f709243e127b6c5aa028b6.jpg,3', '20160927110318-550_color-ROI-1-51_jpg.rf.5e69b3c090c5c2ef8ec76db6a6437355.jpg,2', '20160927110318-550_color-ROI-1-53_jpg.rf.19623e3a6574638207f7d34e4e6bfb01.jpg,3', '20160927111324-550_color-ROI-1-10_jpg.rf.5976cc60e606f8b7212480fe4e6637e3.jpg,3', '20160927111324-550_color-ROI-1-20_jpg.rf.676ca4a39d8fb3ccab5ee37007867964.jpg,3', '20160927111324-550_color-ROI-1-7_jpg.rf.5b5ce05916b316bb0bb1a8fa4a2837b5.jpg,4', '20170418073200_color-ROI-1-118_jpg.rf.a77670587ec8818277ffbbb208674efd.jpg,2', '20170418074140-550_color-ROI-1-128_jpg.rf.48120f74d124ce7a012d31d64a7239e3.jpg,3']\n",
      "['20160927102749_color-ROI-1-1_jpg.rf.73f08ead8a53af986674e963c62f9154.jpg,7', '20160927103652-550_color-ROI-1-20_jpg.rf.1199695b591dcbe82f8b68e0ed3a28ba.jpg,3', '20160927103652-550_color-ROI-1-21_jpg.rf.6ff9ca13a5b42377e49e3ddd100c87eb.jpg,5', '20160927103652-550_color-ROI-1-45_jpg.rf.9456e32c3632be1c4a0ad320365a90f9.jpg,5', '20160927103652-550_color-ROI-1-59_jpg.rf.54e43167915cc094ac11512bea3905c9.jpg,3', '20160927103652-550_color-ROI-1-62_jpg.rf.7b0426563c1eb4b58aec6f84f26a543d.jpg,3', '20160927103652-550_color-ROI-1-74_jpg.rf.477e5a1173767f4c98b890481672cb7f.jpg,3', '20160927103652-550_color-ROI-1-8_jpg.rf.2d8413c93ebb79176786f8cab3d3ca7d.jpg,3', '20160927110318-550_color-ROI-1-19_jpg.rf.dbfe632c5484871c086628cb5e4db7ab.jpg,3', '20160927110318-550_color-ROI-1-20_jpg.rf.7b12afbbf5561a858ef9c566639a7aa4.jpg,2', '20160927110318-550_color-ROI-1-30_jpg.rf.9271ecd23acb4e31716334ea270faa1b.jpg,2', '20160927110318-550_color-ROI-1-33_jpg.rf.7e193cbb6ef0edcf58c6652fdec040d5.jpg,3', '20160927110318-550_color-ROI-1-37_jpg.rf.c03ee49f125bbe8d229d1e00e687570f.jpg,2', '20160927110318-550_color-ROI-1-38_jpg.rf.9c1879caec23b05fc67d0c15fe4c9535.jpg,5', '20160927110318-550_color-ROI-1-54_jpg.rf.c4ddcfe5a7e6f8d96cb68eade616aa4c.jpg,3']\n"
     ]
    }
   ],
   "source": [
    "import os\n",
    "def convert_to_regression(folder):\n",
    "    files_path = [os.path.join(f\"Dataset\\{folder}\\labels\", x) for x in os.listdir(f\"Dataset\\{folder}\\labels\")]\n",
    "\n",
    "    data = []\n",
    "    for file in files_path:\n",
    "        with open(file, 'r') as f:\n",
    "            number_of_axles = f.readlines()\n",
    "            data.append(\n",
    "                f\"{os.path.basename(file).replace('.txt', '.jpg')},{len(number_of_axles)}\"\n",
    "            )\n",
    "    print(data[:15])\n",
    "\n",
    "    salvar = f\"Dataset/{folder}/number_of_axles.txt\"\n",
    "    with open(salvar, 'w') as f:\n",
    "        for d in data:\n",
    "            f.writelines(d+\"\\n\")\n",
    "\n",
    "for i in [\"train\", \"valid\", \"test\"]:\n",
    "    convert_to_regression(i)"
   ]
  }
 ],
 "metadata": {
  "kernelspec": {
   "display_name": "Python 3",
   "language": "python",
   "name": "python3"
  },
  "language_info": {
   "codemirror_mode": {
    "name": "ipython",
    "version": 3
   },
   "file_extension": ".py",
   "mimetype": "text/x-python",
   "name": "python",
   "nbconvert_exporter": "python",
   "pygments_lexer": "ipython3",
   "version": "3.11.3"
  }
 },
 "nbformat": 4,
 "nbformat_minor": 2
}
