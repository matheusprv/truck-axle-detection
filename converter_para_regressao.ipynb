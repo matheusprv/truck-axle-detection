{
 "cells": [
  {
   "cell_type": "code",
   "execution_count": 1,
   "metadata": {},
   "outputs": [],
   "source": [
    "import os\n",
    "\n"
   ]
  },
  {
   "cell_type": "code",
   "execution_count": 13,
   "metadata": {},
   "outputs": [
    {
     "name": "stdout",
     "output_type": "stream",
     "text": [
      "['20160927102749_color-ROI-1-1_jpg.rf.73f08ead8a53af986674e963c62f9154.jpg,7', '20160927103652-550_color-ROI-1-20_jpg.rf.1199695b591dcbe82f8b68e0ed3a28ba.jpg,3', '20160927103652-550_color-ROI-1-21_jpg.rf.6ff9ca13a5b42377e49e3ddd100c87eb.jpg,5', '20160927103652-550_color-ROI-1-45_jpg.rf.9456e32c3632be1c4a0ad320365a90f9.jpg,5', '20160927103652-550_color-ROI-1-59_jpg.rf.54e43167915cc094ac11512bea3905c9.jpg,3', '20160927103652-550_color-ROI-1-62_jpg.rf.7b0426563c1eb4b58aec6f84f26a543d.jpg,3', '20160927103652-550_color-ROI-1-74_jpg.rf.477e5a1173767f4c98b890481672cb7f.jpg,3', '20160927103652-550_color-ROI-1-8_jpg.rf.2d8413c93ebb79176786f8cab3d3ca7d.jpg,3', '20160927110318-550_color-ROI-1-19_jpg.rf.dbfe632c5484871c086628cb5e4db7ab.jpg,3', '20160927110318-550_color-ROI-1-20_jpg.rf.7b12afbbf5561a858ef9c566639a7aa4.jpg,2', '20160927110318-550_color-ROI-1-30_jpg.rf.9271ecd23acb4e31716334ea270faa1b.jpg,2', '20160927110318-550_color-ROI-1-33_jpg.rf.7e193cbb6ef0edcf58c6652fdec040d5.jpg,3', '20160927110318-550_color-ROI-1-37_jpg.rf.c03ee49f125bbe8d229d1e00e687570f.jpg,2', '20160927110318-550_color-ROI-1-38_jpg.rf.9c1879caec23b05fc67d0c15fe4c9535.jpg,5', '20160927110318-550_color-ROI-1-54_jpg.rf.c4ddcfe5a7e6f8d96cb68eade616aa4c.jpg,3']\n"
     ]
    }
   ],
   "source": [
    "test_path = [os.path.join(r\"Dataset\\test\\labels\", x) for x in os.listdir(r\"Dataset\\test\\labels\")]\n",
    "\n",
    "\n",
    "data = []\n",
    "for file in test_path:\n",
    "    with open(file, 'r') as f:\n",
    "        number_of_axles = f.readlines()\n",
    "        data.append(\n",
    "            f\"{os.path.basename(file).replace('.txt', '.jpg')},{len(number_of_axles)}\"\n",
    "        )\n",
    "print(data[:15])\n",
    "\n",
    "salvar = r\"Dataset\\test\\number_of_axles.txt\"\n",
    "with open(salvar, 'w') as f:\n",
    "    for d in data:\n",
    "        f.writelines(d+\"\\n\")"
   ]
  },
  {
   "cell_type": "code",
   "execution_count": 17,
   "metadata": {},
   "outputs": [],
   "source": [
    "from pathlib import Path\n",
    "\n",
    "my_file = Path(\"Dataset\\valid\\images\\GOPR6698_color-ROI-1-211_jpg.rf.464338034141025ce5ad8f03d9400053.jpg\")\n",
    "if my_file.is_file():\n",
    "    print(\"True\")"
   ]
  }
 ],
 "metadata": {
  "kernelspec": {
   "display_name": "Python 3",
   "language": "python",
   "name": "python3"
  },
  "language_info": {
   "codemirror_mode": {
    "name": "ipython",
    "version": 3
   },
   "file_extension": ".py",
   "mimetype": "text/x-python",
   "name": "python",
   "nbconvert_exporter": "python",
   "pygments_lexer": "ipython3",
   "version": "3.11.3"
  }
 },
 "nbformat": 4,
 "nbformat_minor": 2
}
